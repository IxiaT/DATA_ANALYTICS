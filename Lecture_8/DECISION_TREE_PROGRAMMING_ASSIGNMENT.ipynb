{
 "cells": [
  {
   "cell_type": "markdown",
   "id": "56e278e3-177b-4c2d-a60e-4b21616bbcfb",
   "metadata": {},
   "source": [
    "# Instructions\n",
    "\n",
    "1. Choose a dataset from https://archive.ics.uci.edu/datasets.\n",
    "2. Your dataset should be unique to that of your classmate, so be sure to discuss with them, otherwise no points will be given into this assignment.\n",
    "3. "
   ]
  },
  {
   "cell_type": "code",
   "execution_count": 19,
   "id": "a004518c",
   "metadata": {},
   "outputs": [
    {
     "name": "stdout",
     "output_type": "stream",
     "text": [
      "Accuracy: 0.86\n",
      "Classification Report:\n",
      "              precision    recall  f1-score   support\n",
      "\n",
      "           0       0.91      0.99      0.95        96\n",
      "           1       0.50      0.67      0.57         3\n",
      "           2       0.60      0.33      0.43         9\n",
      "           3       0.40      0.33      0.36         6\n",
      "           4       0.80      0.44      0.57         9\n",
      "\n",
      "    accuracy                           0.86       123\n",
      "   macro avg       0.64      0.55      0.58       123\n",
      "weighted avg       0.85      0.86      0.85       123\n",
      "\n"
     ]
    }
   ],
   "source": [
    "import pandas as pd\n",
    "from sklearn.preprocessing import LabelEncoder\n",
    "from sklearn.model_selection import train_test_split\n",
    "from sklearn.tree import DecisionTreeClassifier\n",
    "from sklearn.metrics import classification_report, accuracy_score\n",
    "\n",
    "file_path = \"hcvdat0.csv\" \n",
    "data = pd.read_csv(file_path)\n",
    "\n",
    "data.fillna(data.median(numeric_only=True), inplace=True)\n",
    "\n",
    "label_encoder = LabelEncoder()\n",
    "data['Category'] = label_encoder.fit_transform(data['Category'])\n",
    "data['Sex'] = label_encoder.fit_transform(data['Sex'])\n",
    "\n",
    "X = data.drop(columns=['Unnamed: 0', 'Category'])\n",
    "y = data['Category']\n",
    "\n",
    "X_train, X_test, y_train, y_test = train_test_split(X, y, test_size=0.2, random_state=42)\n",
    "\n",
    "clf = DecisionTreeClassifier(random_state=42)\n",
    "\n",
    "clf.fit(X_train, y_train)\n",
    "\n",
    "y_pred = clf.predict(X_test)\n",
    "\n",
    "accuracy = accuracy_score(y_test, y_pred)\n",
    "report = classification_report(y_test, y_pred)\n",
    "\n",
    "print(f\"Accuracy: {accuracy:.2f}\")\n",
    "print(\"Classification Report:\")\n",
    "print(report)\n"
   ]
  }
 ],
 "metadata": {
  "kernelspec": {
   "display_name": "Python 3 (ipykernel)",
   "language": "python",
   "name": "python3"
  },
  "language_info": {
   "codemirror_mode": {
    "name": "ipython",
    "version": 3
   },
   "file_extension": ".py",
   "mimetype": "text/x-python",
   "name": "python",
   "nbconvert_exporter": "python",
   "pygments_lexer": "ipython3",
   "version": "3.11.7"
  }
 },
 "nbformat": 4,
 "nbformat_minor": 5
}
